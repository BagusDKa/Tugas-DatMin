{
  "nbformat": 4,
  "nbformat_minor": 0,
  "metadata": {
    "colab": {
      "provenance": [],
      "authorship_tag": "ABX9TyMEDBwTb264zllKgN5hWACj",
      "include_colab_link": true
    },
    "kernelspec": {
      "name": "python3",
      "display_name": "Python 3"
    },
    "language_info": {
      "name": "python"
    }
  },
  "cells": [
    {
      "cell_type": "markdown",
      "metadata": {
        "id": "view-in-github",
        "colab_type": "text"
      },
      "source": [
        "<a href=\"https://colab.research.google.com/github/BagusDKa/Tugas-DatMin/blob/main/tugas1.ipynb\" target=\"_parent\"><img src=\"https://colab.research.google.com/assets/colab-badge.svg\" alt=\"Open In Colab\"/></a>"
      ]
    },
    {
      "cell_type": "markdown",
      "source": [
        "#Analisis jenis tipe yang paling umum dalam setiap generasi\n",
        "\n"
      ],
      "metadata": {
        "id": "4SMpQycNtxPK"
      }
    },
    {
      "cell_type": "markdown",
      "source": [
        "##BUSINESS UNDERSTANDING"
      ],
      "metadata": {
        "id": "PgF23jUsvmvb"
      }
    },
    {
      "cell_type": "markdown",
      "source": [
        "###Tujuan Bisnis\n",
        "tujuan dataset diatas adalah\n",
        "Memastikan bahwa dalam setiap generasi, jenis tipe Pokémon yang dihadirkan dalam game seimbang, sehingga tidak ada tipe yang terlalu dominan atau terlalu lemah\n",
        "###Menilai Situasi\n",
        "penilaian situasi adalah erlu diingat bahwa keseimbangan juga harus memperhatikan faktor-faktor lain seperti kemampuan dan strategi\n",
        "\n",
        "###Tujuan Data Mining\n",
        "dari tujuan data mining tersebut adalah Menemukan pola dan asosiasi antara tipe Pokémon dalam setiap generasi\n",
        "\n",
        "###Perencanaan Proyek\n",
        "1. Definisi Tujuan Proyek:\n",
        "Deskripsi: Menentukan dengan jelas tujuan dan ruang lingkup analisis, termasuk pertanyaan khusus yang ingin dijawab dan hasil yang diharapkan\n",
        "\n",
        "2.  Identifikasi dan Pemahaman Data:\n",
        "Deskripsi: Memahami struktur dan karakteristik dataset Pokémon yang akan digunakan dalam analisis\n",
        "\n",
        "3. Persiapan Data:\n",
        "Deskripsi: Membersihkan dan mempersiapkan data untuk analisis, termasuk penghapusan data yang hilang, normalisasi, dan pembuatan atribut baru jika diperlukan\n",
        "\n",
        "4. Eksplorasi Data:\n",
        "Deskripsi: Melakukan eksplorasi awal terhadap data untuk mendapatkan wawasan awal dan memahami karakteristik distribusi tipe Pokémon\n",
        "\n",
        "5. nalisis Statistik:\n",
        "Deskripsi: Melakukan analisis statistik deskriptif terhadap atribut utama, seperti rata-rata, median, dan deviasi standar, untuk setiap tipe dan generasi\n",
        "\n",
        "6. Analisis Perubahan Tren:\n",
        "Deskripsi: Mengidentifikasi dan menganalisis perubahan tren dalam tipe Pokémon dari satu generasi ke generasi berikutnya\n",
        "\n",
        "7. Penerapan Algoritma Data Mining:\n",
        "Deskripsi: Menerapkan algoritma data mining yang relevan untuk mencapai tujuan seperti klasifikasi, pengelompokan, dan identifikasi pola asosiasi\n",
        "\n",
        "8. Visualisasi Data:\n",
        "Deskripsi: Membuat visualisasi yang jelas dan informatif untuk mendukung interpretasi hasil dan mempresentasikan temuan secara efektif\n",
        "\n",
        "9. Validasi dan Evaluasi Model:\n",
        "Deskripsi: Melakukan validasi dan evaluasi terhadap model-data mining yang telah diimplementasikan, memastikan keakuratannya dan kelayakannya\n",
        "\n",
        "10. Penyusunan Laporan dan Presentasi:\n",
        "Deskripsi: Menyusun laporan akhir yang mencakup temuan utama, analisis, dan rekomendasi, serta menyajikannya secara jelas dalam sebuah presentasi\n",
        "\n",
        "11. Iterasi dan Perbaikan:\n",
        "Deskripsi: Jika diperlukan, melakukan iterasi dan perbaikan berdasarkan umpan balik dari pemangku kepentingan atau hasil evaluasi\n",
        "\n",
        "12. mplementasi Rekomendasi:\n",
        "Deskripsi: Jika proyek ini menghasilkan rekomendasi atau perubahan tertentu, persiapkan dan implementasikan langkah-langkah yang diperlukan\n",
        "\n",
        "13. Pemeliharaan dan Monitoring:\n",
        "Deskripsi: Tetap memonitor tren dan melibatkan pemeliharaan jika diperlukan untuk menjaga keakuratan analisis seiring waktu\n",
        "\n",
        "14.  Evaluasi Dampak:\n",
        "Deskripsi: Mengevaluasi dampak implementasi hasil analisis terhadap kinerja bisnis dan kepuasan pengguna"
      ],
      "metadata": {
        "id": "ZOrTVwgnv4D6"
      }
    }
  ]
}